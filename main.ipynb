{
 "cells": [
  {
   "cell_type": "code",
   "execution_count": 10,
   "metadata": {},
   "outputs": [],
   "source": [
    "import os\n",
    "import pandas as pd\n",
    "import tensorflow as tf\n",
    "from tensorflow.keras.preprocessing.image import ImageDataGenerator"
   ]
  },
  {
   "cell_type": "code",
   "execution_count": 11,
   "metadata": {},
   "outputs": [],
   "source": [
    "base_dir = 'airportsecurity/datasets'\n",
    "train_dir = 'D:/GitHub/airportsecurity/datasets/train'\n",
    "valid_dir = 'D:/GitHub/airportsecurity/datasets/valid'\n",
    "test_dir = 'D:/GitHub/airportsecurity/datasets/test'\n"
   ]
  },
  {
   "cell_type": "code",
   "execution_count": 12,
   "metadata": {},
   "outputs": [],
   "source": [
    "# Read CSV files\n",
    "train_df = pd.read_csv('D:/GitHub/airportsecurity/datasets/train/_annotations_train.csv')\n",
    "valid_df = pd.read_csv('D:/GitHub/airportsecurity/datasets/valid/_annotations_valid.csv')\n",
    "test_df = pd.read_csv('D:/GitHub/airportsecurity/datasets/test/_annotations_test.csv')"
   ]
  },
  {
   "cell_type": "code",
   "execution_count": 13,
   "metadata": {},
   "outputs": [
    {
     "name": "stdout",
     "output_type": "stream",
     "text": [
      "Found 6181 validated image filenames.\n",
      "Found 1766 validated image filenames.\n",
      "Found 883 validated image filenames.\n"
     ]
    }
   ],
   "source": [
    "# Data preprocessing\n",
    "image_size = (224,224)\n",
    "batch_size = 32\n",
    "\n",
    "train_datagen = ImageDataGenerator(rescale=1./255)\n",
    "train_generator = train_datagen.flow_from_dataframe(\n",
    "    dataframe=train_df,\n",
    "    directory=train_dir,\n",
    "    x_col='filename',\n",
    "    y_col=['xmin', 'ymin', 'xmax', 'ymax', 'class'],\n",
    "    target_size=image_size,\n",
    "    batch_size=batch_size,\n",
    "    class_mode='other')\n",
    "\n",
    "valid_datagen = ImageDataGenerator(rescale=1./255)\n",
    "valid_generator = valid_datagen.flow_from_dataframe(\n",
    "    dataframe=valid_df,\n",
    "    directory=valid_dir,\n",
    "    x_col='filename',\n",
    "    y_col=['xmin', 'ymin', 'xmax', 'ymax', 'class'],\n",
    "    target_size=image_size,\n",
    "    batch_size=batch_size,\n",
    "    class_mode='other')\n",
    "\n",
    "test_datagen = ImageDataGenerator(rescale=1./255)\n",
    "test_generator = test_datagen.flow_from_dataframe(\n",
    "    dataframe=test_df,\n",
    "    directory=test_dir,\n",
    "    x_col='filename',\n",
    "    y_col=['xmin', 'ymin', 'xmax', 'ymax', 'class'],\n",
    "    target_size=image_size,\n",
    "    batch_size=batch_size,\n",
    "    class_mode='other')\n"
   ]
  },
  {
   "cell_type": "code",
   "execution_count": 24,
   "metadata": {},
   "outputs": [],
   "source": [
    "'''from tensorflow.keras.applications import MobileNetV2\n",
    "from tensorflow.keras.models import Model\n",
    "from tensorflow.keras.layers import Conv2D, Reshape, Activation\n",
    "\n",
    "# Load pre-trained MobileNetV2 model (without top classification layer)\n",
    "base_model = MobileNetV2(weights='imagenet', include_top=False, input_shape=(224, 224, 3))\n",
    "\n",
    "# Add custom detection head\n",
    "x = base_model.output\n",
    "x = Conv2D(256, (3, 3), padding='same')(x)\n",
    "x = Activation('relu')(x)\n",
    "x = Conv2D(5, (1, 1), activation='sigmoid')(x)  # Output layer: 5 channels (4 for bounding box coordinates, 1 for class probability)\n",
    "# Change the reshape operation to match the expected output shape during training\n",
    "x = Reshape((7, 7, 5))(x)  # Reshape to (7, 7, 5) for anchor boxes (or bounding boxes) and class probability\n",
    "\n",
    "# Create the model\n",
    "model = Model(inputs=base_model.input, outputs=x)\n",
    "\n",
    "# Freeze base layers\n",
    "for layer in base_model.layers:\n",
    "    layer.trainable = False\n",
    "\n",
    "# Compile model\n",
    "model.compile(optimizer='adam', loss='mse', metrics=['accuracy'])'''\n",
    "\n",
    "import os\n",
    "import pandas as pd\n",
    "import tensorflow as tf\n",
    "from tensorflow.keras.applications import MobileNetV2\n",
    "from tensorflow.keras.layers import Conv2D, Activation\n",
    "from tensorflow.keras.models import Model\n",
    "\n",
    "# Define your base model (e.g., MobileNetV2)\n",
    "base_model = MobileNetV2(weights='imagenet', include_top=False, input_shape=(224, 224, 3))\n",
    "\n",
    "# Define the convolutional layers for prediction\n",
    "x = base_model.output\n",
    "x = Conv2D(256, (3, 3), padding='same')(x)\n",
    "x = Activation('relu')(x)\n",
    "x = Conv2D(5, (1, 1), activation='sigmoid')(x)  # Output layer: 5 channels (4 for bounding box coordinates, 1 for class probability)\n",
    "\n",
    "# Create the model\n",
    "model = Model(inputs=base_model.input, outputs=x)\n",
    "\n",
    "# Compile the model\n",
    "model.compile(optimizer='adam', loss='mse', metrics=['accuracy'])\n",
    "\n"
   ]
  },
  {
   "cell_type": "code",
   "execution_count": 25,
   "metadata": {},
   "outputs": [
    {
     "name": "stdout",
     "output_type": "stream",
     "text": [
      "Epoch 1/10\n"
     ]
    },
    {
     "ename": "ValueError",
     "evalue": "Dimensions must be equal, but are 5 and 7 for '{{node Equal}} = Equal[T=DT_INT64, incompatible_shape_error=true](data_1, Cast_2)' with input shapes: [?,5], [?,7,7].",
     "output_type": "error",
     "traceback": [
      "\u001b[1;31m---------------------------------------------------------------------------\u001b[0m",
      "\u001b[1;31mValueError\u001b[0m                                Traceback (most recent call last)",
      "\u001b[1;32md:\\GitHub\\airportsecurity\\main.ipynb Cell 6\u001b[0m line \u001b[0;36m4\n\u001b[0;32m      <a href='vscode-notebook-cell:/d%3A/GitHub/airportsecurity/main.ipynb#W6sZmlsZQ%3D%3D?line=0'>1</a>\u001b[0m \u001b[39m# Assuming you have prepared your data and defined your fully convolutional object detection model (model variable)\u001b[39;00m\n\u001b[0;32m      <a href='vscode-notebook-cell:/d%3A/GitHub/airportsecurity/main.ipynb#W6sZmlsZQ%3D%3D?line=1'>2</a>\u001b[0m \n\u001b[0;32m      <a href='vscode-notebook-cell:/d%3A/GitHub/airportsecurity/main.ipynb#W6sZmlsZQ%3D%3D?line=2'>3</a>\u001b[0m \u001b[39m# Train the model\u001b[39;00m\n\u001b[1;32m----> <a href='vscode-notebook-cell:/d%3A/GitHub/airportsecurity/main.ipynb#W6sZmlsZQ%3D%3D?line=3'>4</a>\u001b[0m history \u001b[39m=\u001b[39m model\u001b[39m.\u001b[39mfit(\n\u001b[0;32m      <a href='vscode-notebook-cell:/d%3A/GitHub/airportsecurity/main.ipynb#W6sZmlsZQ%3D%3D?line=4'>5</a>\u001b[0m     train_generator,\n\u001b[0;32m      <a href='vscode-notebook-cell:/d%3A/GitHub/airportsecurity/main.ipynb#W6sZmlsZQ%3D%3D?line=5'>6</a>\u001b[0m     steps_per_epoch\u001b[39m=\u001b[39mtrain_generator\u001b[39m.\u001b[39msamples \u001b[39m/\u001b[39m\u001b[39m/\u001b[39m batch_size,\n\u001b[0;32m      <a href='vscode-notebook-cell:/d%3A/GitHub/airportsecurity/main.ipynb#W6sZmlsZQ%3D%3D?line=6'>7</a>\u001b[0m     epochs\u001b[39m=\u001b[39m\u001b[39m10\u001b[39m,\n\u001b[0;32m      <a href='vscode-notebook-cell:/d%3A/GitHub/airportsecurity/main.ipynb#W6sZmlsZQ%3D%3D?line=7'>8</a>\u001b[0m     validation_data\u001b[39m=\u001b[39mvalid_generator,\n\u001b[0;32m      <a href='vscode-notebook-cell:/d%3A/GitHub/airportsecurity/main.ipynb#W6sZmlsZQ%3D%3D?line=8'>9</a>\u001b[0m     validation_steps\u001b[39m=\u001b[39mvalid_generator\u001b[39m.\u001b[39msamples \u001b[39m/\u001b[39m\u001b[39m/\u001b[39m batch_size\n\u001b[0;32m     <a href='vscode-notebook-cell:/d%3A/GitHub/airportsecurity/main.ipynb#W6sZmlsZQ%3D%3D?line=9'>10</a>\u001b[0m )\n",
      "File \u001b[1;32m~\\AppData\\Roaming\\Python\\Python311\\site-packages\\keras\\src\\utils\\traceback_utils.py:122\u001b[0m, in \u001b[0;36mfilter_traceback.<locals>.error_handler\u001b[1;34m(*args, **kwargs)\u001b[0m\n\u001b[0;32m    119\u001b[0m     filtered_tb \u001b[39m=\u001b[39m _process_traceback_frames(e\u001b[39m.\u001b[39m__traceback__)\n\u001b[0;32m    120\u001b[0m     \u001b[39m# To get the full stack trace, call:\u001b[39;00m\n\u001b[0;32m    121\u001b[0m     \u001b[39m# `keras.config.disable_traceback_filtering()`\u001b[39;00m\n\u001b[1;32m--> 122\u001b[0m     \u001b[39mraise\u001b[39;00m e\u001b[39m.\u001b[39mwith_traceback(filtered_tb) \u001b[39mfrom\u001b[39;00m \u001b[39mNone\u001b[39;00m\n\u001b[0;32m    123\u001b[0m \u001b[39mfinally\u001b[39;00m:\n\u001b[0;32m    124\u001b[0m     \u001b[39mdel\u001b[39;00m filtered_tb\n",
      "File \u001b[1;32m~\\AppData\\Roaming\\Python\\Python311\\site-packages\\keras\\src\\backend\\tensorflow\\numpy.py:934\u001b[0m, in \u001b[0;36mequal\u001b[1;34m(x1, x2)\u001b[0m\n\u001b[0;32m    932\u001b[0m x1 \u001b[39m=\u001b[39m tf\u001b[39m.\u001b[39mcast(x1, dtype)\n\u001b[0;32m    933\u001b[0m x2 \u001b[39m=\u001b[39m tf\u001b[39m.\u001b[39mcast(x2, dtype)\n\u001b[1;32m--> 934\u001b[0m \u001b[39mreturn\u001b[39;00m tf\u001b[39m.\u001b[39mequal(x1, x2)\n",
      "\u001b[1;31mValueError\u001b[0m: Dimensions must be equal, but are 5 and 7 for '{{node Equal}} = Equal[T=DT_INT64, incompatible_shape_error=true](data_1, Cast_2)' with input shapes: [?,5], [?,7,7]."
     ]
    }
   ],
   "source": [
    "# Assuming you have prepared your data and defined your fully convolutional object detection model (model variable)\n",
    "\n",
    "# Train the model\n",
    "history = model.fit(\n",
    "    train_generator,\n",
    "    steps_per_epoch=train_generator.samples // batch_size,\n",
    "    epochs=10,\n",
    "    validation_data=valid_generator,\n",
    "    validation_steps=valid_generator.samples // batch_size\n",
    ")\n"
   ]
  },
  {
   "cell_type": "code",
   "execution_count": null,
   "metadata": {},
   "outputs": [],
   "source": []
  }
 ],
 "metadata": {
  "kernelspec": {
   "display_name": "Python 3 (ipykernel)",
   "language": "python",
   "name": "python3"
  },
  "language_info": {
   "codemirror_mode": {
    "name": "ipython",
    "version": 3
   },
   "file_extension": ".py",
   "mimetype": "text/x-python",
   "name": "python",
   "nbconvert_exporter": "python",
   "pygments_lexer": "ipython3",
   "version": "3.11.4"
  }
 },
 "nbformat": 4,
 "nbformat_minor": 2
}
