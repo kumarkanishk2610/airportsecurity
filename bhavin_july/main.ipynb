{
 "cells": [
  {
   "cell_type": "code",
   "execution_count": 1,
   "metadata": {},
   "outputs": [],
   "source": [
    "import os\n",
    "import pandas as pd\n",
    "import tensorflow as tf\n",
    "from tensorflow.keras.preprocessing.image import ImageDataGenerator"
   ]
  },
  {
   "cell_type": "code",
   "execution_count": 2,
   "metadata": {},
   "outputs": [],
   "source": [
    "base_dir = 'airportsecurity/datasets'\n",
    "train_dir = 'D:/GitHub/airportsecurity/datasets/train'\n",
    "valid_dir = 'D:/GitHub/airportsecurity/datasets/valid'\n",
    "test_dir = 'D:/GitHub/airportsecurity/datasets/test'\n"
   ]
  },
  {
   "cell_type": "code",
   "execution_count": 8,
   "metadata": {},
   "outputs": [],
   "source": [
    "# Read CSV files\n",
    "import pandas as pd\n",
    "\n",
    "# Using raw string literals\n",
    "train_df = pd.read_csv(\"C:/Users/Lenovo/OneDrive/Documents/GitHub/airportsecurity/datasets/train/_annotations_train.csv\")\n",
    "valid_df = pd.read_csv(\"C:/Users/Lenovo/OneDrive/Documents/GitHub/airportsecurity/datasets/valid/_annotations_valid.csv\")\n",
    "test_df = pd.read_csv(\"C:/Users/Lenovo/OneDrive/Documents/GitHub/airportsecurity/datasets/test/_annotations_test.csv\")\n"
   ]
  },
  {
   "cell_type": "code",
   "execution_count": 9,
   "metadata": {},
   "outputs": [
    {
     "name": "stdout",
     "output_type": "stream",
     "text": [
      "Found 0 validated image filenames.\n",
      "Found 0 validated image filenames.\n",
      "Found 0 validated image filenames.\n"
     ]
    },
    {
     "name": "stderr",
     "output_type": "stream",
     "text": [
      "c:\\Python311\\Lib\\site-packages\\keras\\src\\legacy\\preprocessing\\image.py:920: UserWarning: Found 6181 invalid image filename(s) in x_col=\"filename\". These filename(s) will be ignored.\n",
      "  warnings.warn(\n",
      "c:\\Python311\\Lib\\site-packages\\keras\\src\\legacy\\preprocessing\\image.py:920: UserWarning: Found 1766 invalid image filename(s) in x_col=\"filename\". These filename(s) will be ignored.\n",
      "  warnings.warn(\n",
      "c:\\Python311\\Lib\\site-packages\\keras\\src\\legacy\\preprocessing\\image.py:920: UserWarning: Found 883 invalid image filename(s) in x_col=\"filename\". These filename(s) will be ignored.\n",
      "  warnings.warn(\n"
     ]
    }
   ],
   "source": [
    "# Data preprocessing\n",
    "image_size = (224,224)\n",
    "batch_size = 32\n",
    "\n",
    "train_datagen = ImageDataGenerator(rescale=1./255)\n",
    "train_generator = train_datagen.flow_from_dataframe(\n",
    "    dataframe=train_df,\n",
    "    directory=train_dir,\n",
    "    x_col='filename',\n",
    "    y_col=['xmin', 'ymin', 'xmax', 'ymax', 'class'],\n",
    "    target_size=image_size,\n",
    "    batch_size=batch_size,\n",
    "    class_mode='other')\n",
    "\n",
    "valid_datagen = ImageDataGenerator(rescale=1./255)\n",
    "valid_generator = valid_datagen.flow_from_dataframe(\n",
    "    dataframe=valid_df,\n",
    "    directory=valid_dir,\n",
    "    x_col='filename',\n",
    "    y_col=['xmin', 'ymin', 'xmax', 'ymax', 'class'],\n",
    "    target_size=image_size,\n",
    "    batch_size=batch_size,\n",
    "    class_mode='other')\n",
    "\n",
    "test_datagen = ImageDataGenerator(rescale=1./255)\n",
    "test_generator = test_datagen.flow_from_dataframe(\n",
    "    dataframe=test_df,\n",
    "    directory=test_dir,\n",
    "    x_col='filename',\n",
    "    y_col=['xmin', 'ymin', 'xmax', 'ymax', 'class'],\n",
    "    target_size=image_size,\n",
    "    batch_size=batch_size,\n",
    "    class_mode='other')\n"
   ]
  },
  {
   "cell_type": "code",
   "execution_count": 21,
   "metadata": {},
   "outputs": [],
   "source": [
    "'''from tensorflow.keras.applications import MobileNetV2\n",
    "from tensorflow.keras.models import Model\n",
    "from tensorflow.keras.layers import Conv2D, Reshape, Activation\n",
    "\n",
    "# Load pre-trained MobileNetV2 model (without top classification layer)\n",
    "base_model = MobileNetV2(weights='imagenet', include_top=False, input_shape=(224, 224, 3))\n",
    "\n",
    "# Add custom detection head\n",
    "x = base_model.output\n",
    "x = Conv2D(256, (3, 3), padding='same')(x)\n",
    "x = Activation('relu')(x)\n",
    "x = Conv2D(5, (1, 1), activation='sigmoid')(x)  # Output layer: 5 channels (4 for bounding box coordinates, 1 for class probability)\n",
    "# Change the reshape operation to match the expected output shape during training\n",
    "x = Reshape((7, 7, 5))(x)  # Reshape to (7, 7, 5) for anchor boxes (or bounding boxes) and class probability\n",
    "\n",
    "# Create the model\n",
    "model = Model(inputs=base_model.input, outputs=x)\n",
    "\n",
    "# Freeze base layers\n",
    "for layer in base_model.layers:\n",
    "    layer.trainable = False\n",
    "\n",
    "# Compile model\n",
    "model.compile(optimizer='adam', loss='mse', metrics=['accuracy'])'''\n",
    "\n",
    "import os\n",
    "import pandas as pd\n",
    "import tensorflow as tf\n",
    "from tensorflow.keras.applications import MobileNetV2\n",
    "from tensorflow.keras.layers import Conv2D, Activation\n",
    "from tensorflow.keras.models import Model\n",
    "from tensorflow.keras.models import Sequential\n",
    "from tensorflow.keras import layers\n",
    "\n",
    "# Define your base model (e.g., MobileNetV2)\n",
    "base_model = MobileNetV2(weights='imagenet', include_top=False, input_shape=(224, 224, 3))\n",
    "\n",
    "# Define the convolutional layers for prediction\n",
    "# x = base_model.output\n",
    "# x = Conv2D(256, (3, 3), padding='same')(x)\n",
    "# x = Activation('relu')(x)\n",
    "# x = Conv2D(5, (1, 1), activation='sigmoid')(x)  # Output layer: 5 channels (4 for bounding box coordinates, 1 for class probability)\n",
    "\n",
    "# # Create the model\n",
    "# model = Model(inputs=base_model.input, outputs=x)\n",
    "\n",
    "\n",
    "model = Sequential([\n",
    "    layers.Conv2D(16, kernel_size=(3, 3), input_shape=(224, 224, 3), activation='relu', name=\"conv2d\"),\n",
    "    layers.MaxPooling2D(pool_size=(2, 2), name=\"max_pooling2d\"),\n",
    "    layers.Conv2D(32, kernel_size=(3, 3), activation='relu', name=\"conv2d_1\"),\n",
    "    layers.GlobalMaxPooling2D(name=\"global_max_pooling2d\"),\n",
    "    layers.Flatten(name=\"flatten\"),\n",
    "    layers.Dense(64, activation='relu', name=\"dense\"),\n",
    "    layers.Dense(5, activation='softmax', name=\"output_layer\"),\n",
    "])\n",
    "\n",
    "\n",
    "# Compile the model\n",
    "model.compile(optimizer='adam', loss='mse', metrics=['accuracy'])\n",
    "\n",
    "# model.summary()\n",
    "# base_model.summary()\n"
   ]
  },
  {
   "cell_type": "code",
   "execution_count": 24,
   "metadata": {},
   "outputs": [
    {
     "data": {
      "text/plain": [
       "0"
      ]
     },
     "execution_count": 24,
     "metadata": {},
     "output_type": "execute_result"
    }
   ],
   "source": [
    "# Assuming you have prepared your data and defined your fully convolutional object detection model (model variable)\n",
    "\n",
    "\n",
    "\n",
    "# Train the model\n",
    "# history = model.fit(\n",
    "#     train_generator,\n",
    "#     steps_per_epoch=train_generator.samples // batch_size,\n",
    "#     epochs=10,\n",
    "#     validation_data=valid_generator,\n",
    "#     validation_steps=valid_generator.samples // batch_size\n",
    "# )\n"
   ]
  },
  {
   "cell_type": "code",
   "execution_count": null,
   "metadata": {},
   "outputs": [],
   "source": []
  }
 ],
 "metadata": {
  "kernelspec": {
   "display_name": "Python 3 (ipykernel)",
   "language": "python",
   "name": "python3"
  },
  "language_info": {
   "codemirror_mode": {
    "name": "ipython",
    "version": 3
   },
   "file_extension": ".py",
   "mimetype": "text/x-python",
   "name": "python",
   "nbconvert_exporter": "python",
   "pygments_lexer": "ipython3",
   "version": "3.11.5"
  }
 },
 "nbformat": 4,
 "nbformat_minor": 2
}
